{
  "nbformat": 4,
  "nbformat_minor": 0,
  "metadata": {
    "colab": {
      "provenance": []
    },
    "kernelspec": {
      "name": "python3",
      "display_name": "Python 3"
    },
    "language_info": {
      "name": "python"
    }
  },
  "cells": [
    {
      "cell_type": "markdown",
      "source": [
        "1. What are data structures, and why are they important?\n",
        "    ->Data structures are specialized ways to organize, store, and manage data in computers so that it can be used efficiently. Common examples include arrays, linked lists, stacks, queues, trees, and graphs.\n",
        "    They help in optimizing data processing, improving performance, and solving complex problems effectively. Choosing the right data structure makes algorithms faster and more efficient.\n",
        "\n",
        "2. Explain the difference between mutable and immutable data types with examples.\n",
        "    -> Mutable data types can be changed after creation, like lists ([1, 2, 3]) and dictionaries ({'a': 1}). Immutable data types cannot be changed once created, like strings (\"hello\") and tuples ((1, 2, 3)).\n",
        "\n",
        "3. What are the main differences between lists and tuples in Python?\n",
        "    -> Lists are mutable, meaning their elements can be changed, added, or removed ([1, 2, 3]). Tuples are immutable, meaning once created, they cannot be modified ((1, 2, 3)), and they are generally faster and use less memory than lists.\n",
        "\n",
        "4. Describe how dictionaries store data?\n",
        "    -> Dictionaries store data in key-value pairs using a hash table. Each key is unique and maps directly to its corresponding value, allowing for fast lookups, insertions, and deletions.\n",
        "\n",
        "5. Why might you use a set instead of a list in Python?\n",
        "    -> Sets are used when you need to store unique elements and perform fast membership tests. Unlike lists, sets automatically remove duplicates and offer faster lookup for checking if an item exists.\n",
        "\n",
        "6. What is a string in Python, and how is it different from a list?\n",
        "    -> A string in Python is an immutable sequence of characters (e.g., \"hello\"). Unlike lists, which can store different data types and be modified ([1, \"a\", 3]), strings can’t be changed after creation and only store text data.\n",
        "\n",
        "7.  How do tuples ensure data integrity in Python?\n",
        "    -> Tuples are immutable, meaning their data cannot be changed after creation. This ensures the stored values remain constant, protecting data from accidental modifications.\n",
        "\n",
        "8. What is a hash table, and how does it relate to dictionaries in Python?\n",
        "    -> A hash table is a data structure that stores data using a computed hash code to quickly locate values. In Python, dictionaries use hash tables internally to map unique keys to their corresponding values efficiently.\n",
        "\n",
        "9. Can lists contain different data types in Python?\n",
        "    -> Yes, lists in Python can contain elements of different data types, such as integers, strings, and even other lists.\n",
        "\n",
        "10.  Explain why strings are immutable in Python?\n",
        "    -> Strings are immutable in Python to ensure that they are hashable and can be used as keys in dictionaries. Immutability also improves performance by allowing strings to be shared and reused without the risk of being altered, ensuring consistency and security.\n",
        "\n",
        "11. What advantages do dictionaries offer over lists for certain tasks?\n",
        "    -> Dictionaries provide faster lookups for searching by key, as they use hash tables, making them more efficient than lists for tasks like checking membership or retrieving values based on a key. Lists, on the other hand, require searching through each element sequentially.\n",
        "\n",
        "12. Describe a scenario where using a tuple would be preferable over a list?\n",
        "    -> A tuple is preferable when you need to store a fixed collection of data that should not be modified, such as coordinates (x, y, z) or a date (day, month, year). Tuples ensure data integrity and are more memory-efficient than lists when the data is constant.\n",
        "\n",
        "13.  How do sets handle duplicate values in Python?\n",
        "    -> Sets automatically remove duplicate values. If you try to add a duplicate item to a set, it will be ignored, ensuring that all elements in a set are unique.\n",
        "\n",
        "14.  How does the “in” keyword work differently for lists and dictionaries?\n",
        "    -> For lists, the in keyword checks if an element is present in the list by iterating through the entire list (element in list).\n",
        "    For dictionaries, the in keyword checks if a key exists in the dictionary, not the value (key in dict).   \n",
        "\n",
        "15.  Can you modify the elements of a tuple? Explain why or why not?\n",
        "    -> No, you cannot modify the elements of a tuple because tuples are immutable. Once a tuple is created, its elements cannot be changed, added, or removed. This immutability ensures data integrity and allows tuples to be used as keys in dictionaries.\n",
        "\n",
        "16.  What is a nested dictionary, and give an example of its use case?\n",
        "    -> A nested dictionary is a dictionary where the values are other dictionaries. It allows you to represent complex data structures, such as hierarchical relationships.                                                A nested dictionary can be used to represent student records with detailed information, such as storing multiple attributes like address, grades, or courses under each student.        \n",
        "\n",
        "17.  Describe the time complexity of accessing elements in a dictionary?\n",
        "    -> Accessing elements in a dictionary has an average time complexity of O(1). This is because dictionaries in Python use a hash table, allowing direct access to the value associated with a key. However, in the worst case (e.g., hash collisions), the time complexity could degrade to O(n), but this is rare.\n",
        "\n",
        "18.  In what situations are lists preferred over dictionaries?\n",
        "    -> When Order Matters: Lists maintain the order of elements, so if you need to access items in a specific sequence, lists are the way to go.\n",
        "\n",
        "    When You Need Duplicates: Unlike dictionaries, lists can store duplicate values, so if you need to have multiple occurrences of the same item, lists are preferred.\n",
        "\n",
        "    For Simple Iteration: If you're just iterating through a sequence of items without needing to look them up by a key, lists are simpler and more efficient.\n",
        "\n",
        "    Lower Overhead: If you don’t need key-value pairs and just need a collection of items, lists are generally more memory-efficient.\n",
        "\n",
        "19. Why are dictionaries considered unordered, and how does that affect data retrieval?\n",
        "    -> Dictionaries in Python are considered unordered because, prior to Python 3.7, the insertion order of items was not guaranteed. Even though Python 3.7+ maintains insertion order, dictionaries still work by storing key-value pairs in a hash table, meaning the elements are not arranged in a sequential order.\n",
        "\n",
        "    Effect on Data Retrieval: Because dictionaries are unordered, you cannot access items by their position like you can with lists. Instead, you retrieve values by referencing their unique key. This makes lookups very fast (O(1) on average), but the order of items isn't something you can rely on unless explicitly maintained.   \n",
        "\n",
        "20.  Explain the difference between a list and a dictionary in terms of data retrieval.\n",
        "    -> List: Data is retrieved by indexing. You access elements by their position in the list (e.g., list[2]). This requires iterating through the list or using the index number. If the list is large, searching for an item (if not by index) can take longer.\n",
        "\n",
        "    Dictionary: Data is retrieved by key. You access values directly using their associated key (e.g., dict[\"key\"]). This allows for much faster retrieval because dictionaries are based on hash tables, making it much more efficient than searching through a list."
      ],
      "metadata": {
        "id": "6_OEZKOEjYhc"
      }
    },
    {
      "cell_type": "code",
      "execution_count": null,
      "metadata": {
        "colab": {
          "base_uri": "https://localhost:8080/"
        },
        "id": "XCAu6vtajNHt",
        "outputId": "bff67b2b-bcc4-4bcf-cc7a-d8b0fa3a6fa5"
      },
      "outputs": [
        {
          "output_type": "stream",
          "name": "stdout",
          "text": [
            "Divyanshi\n"
          ]
        }
      ],
      "source": [
        "# 1.  Write a code to create a string with your name and print it.\n",
        "\n",
        "name1 = \"Divyanshi\"\n",
        "print(name1)"
      ]
    },
    {
      "cell_type": "code",
      "source": [
        "# 2. Write a code to find the length of the string \"Hello World\".\n",
        "\n",
        "string1 = \"Hello World\"\n",
        "print(len(string1))"
      ],
      "metadata": {
        "colab": {
          "base_uri": "https://localhost:8080/"
        },
        "id": "3plaPlSzpqBV",
        "outputId": "98c841d6-b353-4d73-93cb-30b11e0bd765"
      },
      "execution_count": null,
      "outputs": [
        {
          "output_type": "stream",
          "name": "stdout",
          "text": [
            "11\n"
          ]
        }
      ]
    },
    {
      "cell_type": "code",
      "source": [
        "# 3. Write a code to slice the first 3 characters from the string \"Python Programming\".\n",
        "\n",
        "string2 = \"Python Programming\"\n",
        "print(string2[0:3])"
      ],
      "metadata": {
        "colab": {
          "base_uri": "https://localhost:8080/"
        },
        "id": "GVvHZdh2qFOV",
        "outputId": "860a5490-699e-42ff-9ff6-5c1268600c34"
      },
      "execution_count": null,
      "outputs": [
        {
          "output_type": "stream",
          "name": "stdout",
          "text": [
            "Pyt\n"
          ]
        }
      ]
    },
    {
      "cell_type": "code",
      "source": [
        "# 4. Write a code to convert the string \"hello\" to uppercase.\n",
        "greet = \"hello\"\n",
        "upper_greet = (greet.upper())\n",
        "print(upper_greet)\n"
      ],
      "metadata": {
        "colab": {
          "base_uri": "https://localhost:8080/"
        },
        "id": "HpJDxGzXqqxO",
        "outputId": "3cb81ff9-031e-4ced-c68e-c86e729ecb7a"
      },
      "execution_count": null,
      "outputs": [
        {
          "output_type": "stream",
          "name": "stdout",
          "text": [
            "HELLO\n"
          ]
        }
      ]
    },
    {
      "cell_type": "code",
      "source": [
        "# 5. Write a code to replace the word \"apple\" with \"orange\" in the string \"I like apple\".\n",
        "\n",
        "fruit = \"I like apple\"\n",
        "new_fruit = fruit.replace(\"apple\", \"orange\")\n",
        "print(new_fruit)"
      ],
      "metadata": {
        "colab": {
          "base_uri": "https://localhost:8080/"
        },
        "id": "hATKtvfqrWtT",
        "outputId": "c912ebd9-ff46-44d6-d5fc-d9cca4f73373"
      },
      "execution_count": null,
      "outputs": [
        {
          "output_type": "stream",
          "name": "stdout",
          "text": [
            "I like orange\n"
          ]
        }
      ]
    },
    {
      "cell_type": "code",
      "source": [
        "# 6. Write a code to create a list with numbers 1 to 5 and print it.\n",
        "list1 = list(range(1,6))\n",
        "print(list1)"
      ],
      "metadata": {
        "colab": {
          "base_uri": "https://localhost:8080/"
        },
        "id": "2fK0VHjnr12g",
        "outputId": "280a6bdd-eeed-4ff5-f77e-33da0db34c8a"
      },
      "execution_count": null,
      "outputs": [
        {
          "output_type": "stream",
          "name": "stdout",
          "text": [
            "[1, 2, 3, 4, 5]\n"
          ]
        }
      ]
    },
    {
      "cell_type": "code",
      "source": [
        "# 7. Write a code to append the number 10 to the list [1, 2, 3, 4].\n",
        "\n",
        "number = [1, 2, 3, 4]\n",
        "number.append(10)\n",
        "print(number)"
      ],
      "metadata": {
        "colab": {
          "base_uri": "https://localhost:8080/"
        },
        "id": "JjwXwGnhsJQb",
        "outputId": "7c3619c5-6a2e-4d67-9e5c-1f23caf68730"
      },
      "execution_count": null,
      "outputs": [
        {
          "output_type": "stream",
          "name": "stdout",
          "text": [
            "[1, 2, 3, 4, 10]\n"
          ]
        }
      ]
    },
    {
      "cell_type": "code",
      "source": [
        "# 8. Write a code to remove the number 3 from the list [1, 2, 3, 4, 5].\n",
        "numbers = [1,2,3,4,5]\n",
        "numbers.remove(3)\n",
        "print(numbers)"
      ],
      "metadata": {
        "colab": {
          "base_uri": "https://localhost:8080/"
        },
        "id": "E8MDZSfKsmBc",
        "outputId": "34e86e90-9d29-4939-d956-b2942a61b7b5"
      },
      "execution_count": null,
      "outputs": [
        {
          "output_type": "stream",
          "name": "stdout",
          "text": [
            "[1, 2, 4, 5]\n"
          ]
        }
      ]
    },
    {
      "cell_type": "code",
      "source": [
        "# 9. Write a code to access the second element in the list ['a', 'b', 'c', 'd']\n",
        "\n",
        "aplbt = ['a', 'b', 'c', 'd']\n",
        "sec_ele = aplbt[1]\n",
        "print(sec_ele)"
      ],
      "metadata": {
        "colab": {
          "base_uri": "https://localhost:8080/"
        },
        "id": "rYZ7ewDstdDC",
        "outputId": "0002663c-be3d-49fa-ac84-a1cf07141249"
      },
      "execution_count": null,
      "outputs": [
        {
          "output_type": "stream",
          "name": "stdout",
          "text": [
            "b\n"
          ]
        }
      ]
    },
    {
      "cell_type": "code",
      "source": [
        "# 10. Write a code to reverse the list [10, 20, 30, 40, 50].\n",
        "list2 = [10, 20, 30, 40, 50]\n",
        "list2.reverse()\n",
        "print(list2)"
      ],
      "metadata": {
        "colab": {
          "base_uri": "https://localhost:8080/"
        },
        "id": "8iB0xx8Ytxuu",
        "outputId": "e4b2d9cf-5356-41ad-a2c5-4e3453ae5e1b"
      },
      "execution_count": null,
      "outputs": [
        {
          "output_type": "stream",
          "name": "stdout",
          "text": [
            "[50, 40, 30, 20, 10]\n"
          ]
        }
      ]
    },
    {
      "cell_type": "code",
      "source": [
        "# 11. Write a code to create a tuple with the elements 100, 200, 300 and print it.\n",
        "tup1 = (100, 200, 300)\n",
        "print(tup1)"
      ],
      "metadata": {
        "id": "vZ9O4zIzuE6a",
        "colab": {
          "base_uri": "https://localhost:8080/"
        },
        "outputId": "b25aa0bc-d6db-45ba-b6bf-17179ce6f382"
      },
      "execution_count": 1,
      "outputs": [
        {
          "output_type": "stream",
          "name": "stdout",
          "text": [
            "(100, 200, 300)\n"
          ]
        }
      ]
    },
    {
      "cell_type": "code",
      "source": [
        "# 12.  Write a code to access the second-to-last element of the tuple ('red', 'green', 'blue', 'yellow').\n",
        "\n",
        "tup2 = ('red', 'green', 'blue', 'yellow')\n",
        "print(tup2[-2])"
      ],
      "metadata": {
        "colab": {
          "base_uri": "https://localhost:8080/"
        },
        "id": "YEjw42KF7dWE",
        "outputId": "ddbf4ca8-1ce4-4200-b852-001f312c86a8"
      },
      "execution_count": 6,
      "outputs": [
        {
          "output_type": "stream",
          "name": "stdout",
          "text": [
            "blue\n"
          ]
        }
      ]
    },
    {
      "cell_type": "code",
      "source": [
        " # 13. Write a code to find the minimum number in the tuple (10, 20, 5, 15).\n",
        "\n",
        " tup3 = (10, 20, 5, 15)\n",
        " print(min(tup3))"
      ],
      "metadata": {
        "colab": {
          "base_uri": "https://localhost:8080/"
        },
        "id": "75MFBE3D8F9S",
        "outputId": "f0d92c93-f311-4d50-d910-049b984e6a70"
      },
      "execution_count": 8,
      "outputs": [
        {
          "output_type": "stream",
          "name": "stdout",
          "text": [
            "5\n"
          ]
        }
      ]
    },
    {
      "cell_type": "code",
      "source": [
        "# 14. Write a code to find the index of the element \"cat\" in the tuple ('dog', 'cat', 'rabbit').\n",
        "tup4 = ('dog', 'cat', 'rabbit')\n",
        "print(tup4.index('cat'))"
      ],
      "metadata": {
        "colab": {
          "base_uri": "https://localhost:8080/"
        },
        "id": "34CTF4HW8t9u",
        "outputId": "7bbc1f57-f0f2-45bc-a7a2-9032ac670a72"
      },
      "execution_count": 9,
      "outputs": [
        {
          "output_type": "stream",
          "name": "stdout",
          "text": [
            "1\n"
          ]
        }
      ]
    },
    {
      "cell_type": "code",
      "source": [
        "# 15. Write a code to create a tuple containing three different fruits and check if \"kiwi\" is in it.\n",
        "\n",
        "fruits = (\"apple\", \"banana\", \"orange\")\n",
        "check = (\"kiwi\" in fruits)\n",
        "print(check)"
      ],
      "metadata": {
        "colab": {
          "base_uri": "https://localhost:8080/"
        },
        "id": "MOF6-DNh86C_",
        "outputId": "4eafaf53-1a9b-4a14-9d67-f5074bc0781b"
      },
      "execution_count": 10,
      "outputs": [
        {
          "output_type": "stream",
          "name": "stdout",
          "text": [
            "False\n"
          ]
        }
      ]
    },
    {
      "cell_type": "code",
      "source": [
        "#  16. Write a code to create a set with the elements 'a', 'b', 'c' and print it.\n",
        "set1 = {'a', 'b', 'c'}\n",
        "print(set1)"
      ],
      "metadata": {
        "colab": {
          "base_uri": "https://localhost:8080/"
        },
        "id": "al1-KIFp9NTg",
        "outputId": "abf03758-bbe4-4ec2-b0c1-12b39f8d49ac"
      },
      "execution_count": 11,
      "outputs": [
        {
          "output_type": "stream",
          "name": "stdout",
          "text": [
            "{'c', 'b', 'a'}\n"
          ]
        }
      ]
    },
    {
      "cell_type": "code",
      "source": [
        "#  17. Write a code to clear all elements from the set {1, 2, 3, 4, 5}.\n",
        "set1 = {1, 2, 3, 4, 5}\n",
        "print(set1)\n",
        "set1.clear()\n",
        "print(set1)"
      ],
      "metadata": {
        "colab": {
          "base_uri": "https://localhost:8080/"
        },
        "id": "rlUEOcx69crF",
        "outputId": "9b1b3109-ba7a-41a8-9678-768844365dc7"
      },
      "execution_count": 12,
      "outputs": [
        {
          "output_type": "stream",
          "name": "stdout",
          "text": [
            "{1, 2, 3, 4, 5}\n",
            "set()\n"
          ]
        }
      ]
    },
    {
      "cell_type": "code",
      "source": [
        "#  18. Write a code to remove the element 4 from the set {1, 2, 3, 4}.\n",
        "set1 = {1, 2, 3, 4}\n",
        "print(set1)\n",
        "set1.remove(4)\n",
        "print(set1)"
      ],
      "metadata": {
        "colab": {
          "base_uri": "https://localhost:8080/"
        },
        "id": "GwfXHBml9lC7",
        "outputId": "e498d16c-f0e0-425c-df4c-9ab0c85ee043"
      },
      "execution_count": 13,
      "outputs": [
        {
          "output_type": "stream",
          "name": "stdout",
          "text": [
            "{1, 2, 3, 4}\n",
            "{1, 2, 3}\n"
          ]
        }
      ]
    },
    {
      "cell_type": "code",
      "source": [
        "#  19. Write a code to find the union of two sets {1, 2, 3} and  {3, 4, 5}.\n",
        "seta = {1, 2, 3}\n",
        "setb =  {3, 4, 5}\n",
        "uniab= (seta.union(setb))\n",
        "print(uniab)"
      ],
      "metadata": {
        "colab": {
          "base_uri": "https://localhost:8080/"
        },
        "id": "hH3LuAZX9yUc",
        "outputId": "4da7db1d-e88d-4839-93f2-fe26217387f4"
      },
      "execution_count": 14,
      "outputs": [
        {
          "output_type": "stream",
          "name": "stdout",
          "text": [
            "{1, 2, 3, 4, 5}\n"
          ]
        }
      ]
    },
    {
      "cell_type": "code",
      "source": [
        " # 20. Write a code to find the intersection of two sets {1, 2, 3} and {2, 3, 4}.\n",
        "\n",
        "seta = {1, 2, 3}\n",
        "setb =  {3, 4, 5}\n",
        "interab= (seta.intersection(setb))\n",
        "print(interab)"
      ],
      "metadata": {
        "colab": {
          "base_uri": "https://localhost:8080/"
        },
        "id": "IoGpAdBA-XTo",
        "outputId": "4e1606be-6b8c-4ed2-f3e6-a18b0869d5e3"
      },
      "execution_count": 16,
      "outputs": [
        {
          "output_type": "stream",
          "name": "stdout",
          "text": [
            "{3}\n"
          ]
        }
      ]
    },
    {
      "cell_type": "code",
      "source": [
        "#  21. Write a code to create a dictionary with the keys \"name\", \"age\", and \"city\", and print it.\n",
        "dict1 = {\"name\" : \"divi\", \"age\" : 20, \"city\" : \"delhi\"}\n",
        "print(dict1)"
      ],
      "metadata": {
        "colab": {
          "base_uri": "https://localhost:8080/"
        },
        "id": "5P3OV5aR_D6P",
        "outputId": "a5e7fc95-01d9-4d30-ef8f-2f661434f002"
      },
      "execution_count": 19,
      "outputs": [
        {
          "output_type": "stream",
          "name": "stdout",
          "text": [
            "{'name': 'divi', 'age': 20, 'city': 'delhi'}\n"
          ]
        }
      ]
    },
    {
      "cell_type": "code",
      "source": [
        "#  22. Write a code to add a new key-value pair \"country\": \"USA\" to the dictionary {'name': 'John', 'age': 25}.\n",
        "\n",
        "dict1 = {'name': 'John', 'age': 25}\n",
        "dict1[\"country\"] = \"USA\"\n",
        "print(dict1)"
      ],
      "metadata": {
        "colab": {
          "base_uri": "https://localhost:8080/"
        },
        "id": "VgUp-6W8_ihd",
        "outputId": "e989ad2a-59da-43b8-b9cc-99837e17c807"
      },
      "execution_count": 20,
      "outputs": [
        {
          "output_type": "stream",
          "name": "stdout",
          "text": [
            "{'name': 'John', 'age': 25, 'country': 'USA'}\n"
          ]
        }
      ]
    },
    {
      "cell_type": "code",
      "source": [
        "# 23. Write a code to access the value associated with the key \"name\" in the dictionary {'name': 'Alice', 'age': 30}.\n",
        "dict1 = {'name': 'Alice', 'age': 30}\n",
        "dictname = dict1[\"name\"]\n",
        "print(dictname)"
      ],
      "metadata": {
        "colab": {
          "base_uri": "https://localhost:8080/"
        },
        "id": "_7XVGEDbALvq",
        "outputId": "b1f77ce5-1b77-490a-fc72-5bd5f980e7bd"
      },
      "execution_count": 26,
      "outputs": [
        {
          "output_type": "stream",
          "name": "stdout",
          "text": [
            "Alice\n"
          ]
        }
      ]
    },
    {
      "cell_type": "code",
      "source": [
        "#  24. Write a code to remove the key \"age\" from the dictionary {'name': 'Bob', 'age': 22, 'city': 'New York'}.\n",
        "dic1 = {'name': 'Bob', 'age': 22, 'city': 'New York'}\n",
        "print(dic1)\n",
        "dic1.pop(\"age\")\n",
        "print(dic1)"
      ],
      "metadata": {
        "colab": {
          "base_uri": "https://localhost:8080/"
        },
        "id": "NLJRqQuXAbnn",
        "outputId": "9bedb233-6e3e-49e6-c518-d955461c2674"
      },
      "execution_count": 29,
      "outputs": [
        {
          "output_type": "stream",
          "name": "stdout",
          "text": [
            "{'name': 'Bob', 'age': 22, 'city': 'New York'}\n",
            "{'name': 'Bob', 'city': 'New York'}\n"
          ]
        }
      ]
    },
    {
      "cell_type": "code",
      "source": [
        "#  25. Write a code to check if the key \"city\" exists in the dictionary {'name': 'Alice', 'city': 'Paris'}.\n",
        "dic1 = {'name': 'Alice', 'city': 'Paris'}\n",
        "checkdic = (\"city\" in dic1)\n",
        "print(checkdic)"
      ],
      "metadata": {
        "colab": {
          "base_uri": "https://localhost:8080/"
        },
        "id": "zQ5XOVFeBF9D",
        "outputId": "f1dfdc5d-959f-4b7d-8431-4aa3be6c2ce1"
      },
      "execution_count": 30,
      "outputs": [
        {
          "output_type": "stream",
          "name": "stdout",
          "text": [
            "True\n"
          ]
        }
      ]
    },
    {
      "cell_type": "code",
      "source": [
        "#  26. Write a code to create a list, a tuple, and a dictionary, and print them all.\n",
        "\n",
        "list1 = [1, 2, 3, 4]\n",
        "print(list1)\n",
        "\n",
        "tuple1 = (5, 6, 7, 8, 9)\n",
        "print(tuple1)\n",
        "\n",
        "dict1 = {\"name\": \"Rudra\", \"city\" : \"Jaipur\", \"age\": 25}\n",
        "print(dict1)"
      ],
      "metadata": {
        "colab": {
          "base_uri": "https://localhost:8080/"
        },
        "id": "OG3kV3_MBc7q",
        "outputId": "d746d3f4-4118-451d-ef95-5c6c0f6abe2c"
      },
      "execution_count": 31,
      "outputs": [
        {
          "output_type": "stream",
          "name": "stdout",
          "text": [
            "[1, 2, 3, 4]\n",
            "(5, 6, 7, 8, 9)\n",
            "{'name': 'Rudra', 'city': 'Jaipur', 'age': 25}\n"
          ]
        }
      ]
    },
    {
      "cell_type": "code",
      "source": [
        "# 27. Write a code to create a list of 5 random numbers between 1 and 100, sort it in ascending order, and print the result.(replaced)\n",
        "\n",
        "import random\n",
        "list2 = random.sample(range(1, 101), 5)\n",
        "print(list2)\n",
        "list2.sort()\n",
        "print(list2)"
      ],
      "metadata": {
        "colab": {
          "base_uri": "https://localhost:8080/"
        },
        "id": "FqSTY64JCJFL",
        "outputId": "c821ea3b-a338-4800-fa21-c4e2a753d35a"
      },
      "execution_count": 35,
      "outputs": [
        {
          "output_type": "stream",
          "name": "stdout",
          "text": [
            "[87, 55, 89, 78, 10]\n",
            "[10, 55, 78, 87, 89]\n"
          ]
        }
      ]
    },
    {
      "cell_type": "code",
      "source": [
        "# 28. Write a code to create a list with strings and print the element at the third index.\n",
        "\n",
        "lst = [\"marry\", \"kero\", \"mayo\", \"jihu\"]\n",
        "print(lst[2])"
      ],
      "metadata": {
        "colab": {
          "base_uri": "https://localhost:8080/"
        },
        "id": "DRBFcnqfCq1Z",
        "outputId": "d684b2b2-800b-4622-a055-e3853f2b5a2f"
      },
      "execution_count": 36,
      "outputs": [
        {
          "output_type": "stream",
          "name": "stdout",
          "text": [
            "mayo\n"
          ]
        }
      ]
    },
    {
      "cell_type": "code",
      "source": [
        "#  29. Write a code to combine two dictionaries into one and print the result.\n",
        "dic1 = {\"name\": \"jerry\", \"branch\": \"CSE\", \"city\" : \"Roorkee\"}\n",
        "dic2 = {\"age\" : 23, \"gender\": \"male\"}\n",
        "dic1.update(dic2)\n",
        "print(dic1)"
      ],
      "metadata": {
        "colab": {
          "base_uri": "https://localhost:8080/"
        },
        "id": "0arypoqvDjUP",
        "outputId": "ae33af82-c98d-4606-aeb0-e34af60d3e0d"
      },
      "execution_count": 38,
      "outputs": [
        {
          "output_type": "stream",
          "name": "stdout",
          "text": [
            "{'name': 'jerry', 'branch': 'CSE', 'city': 'Roorkee', 'age': 23, 'gender': 'male'}\n"
          ]
        }
      ]
    },
    {
      "cell_type": "code",
      "source": [
        "#  30. Write a code to convert a list of strings into a set.\n",
        "\n",
        "Lst1 = [\"Watermelon\", \"Mango\", \"Grapes\", \"Guava\"]\n",
        "set1 = set(Lst1)\n",
        "print(set1)"
      ],
      "metadata": {
        "colab": {
          "base_uri": "https://localhost:8080/"
        },
        "id": "_Av3yBWDELca",
        "outputId": "1a9b5966-5cac-495b-884c-d6dc320a9502"
      },
      "execution_count": 46,
      "outputs": [
        {
          "output_type": "stream",
          "name": "stdout",
          "text": [
            "{'Mango', 'Watermelon', 'Grapes', 'Guava'}\n"
          ]
        }
      ]
    },
    {
      "cell_type": "code",
      "source": [],
      "metadata": {
        "id": "ByZQKtOUEwcS"
      },
      "execution_count": null,
      "outputs": []
    }
  ]
}